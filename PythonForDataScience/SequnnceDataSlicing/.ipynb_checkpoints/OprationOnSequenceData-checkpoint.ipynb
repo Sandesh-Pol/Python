{
 "cells": [
  {
   "cell_type": "markdown",
   "id": "0e9db7ec-825f-46e2-b3a6-66646e0f5367",
   "metadata": {},
   "source": [
    "## 1.slicing in pyhton\n"
   ]
  },
  {
   "cell_type": "code",
   "execution_count": 1,
   "id": "006d09af-813b-4274-bc90-32d6cfbef584",
   "metadata": {},
   "outputs": [
    {
     "data": {
      "text/plain": [
       "'er'"
      ]
     },
     "execution_count": 1,
     "metadata": {},
     "output_type": "execute_result"
    }
   ],
   "source": [
    "str  = \"learining\"\n",
    "\n",
    "str[slice(1,4,2)]\n"
   ]
  },
  {
   "cell_type": "code",
   "execution_count": 2,
   "id": "8b637baa-d2d5-4df6-999f-856451c927a4",
   "metadata": {},
   "outputs": [
    {
     "data": {
      "text/plain": [
       "'learining'"
      ]
     },
     "execution_count": 2,
     "metadata": {},
     "output_type": "execute_result"
    }
   ],
   "source": [
    "str[:]"
   ]
  },
  {
   "cell_type": "code",
   "execution_count": 4,
   "id": "7a3ec6d1-5927-4160-ae1f-517e1d4d77a5",
   "metadata": {},
   "outputs": [
    {
     "name": "stdout",
     "output_type": "stream",
     "text": [
      "['Sandesh', 1, '100', 100]\n",
      "['Sandesh', 1, '100']\n",
      "['100', 100]\n"
     ]
    }
   ],
   "source": [
    "list1 = ['Sandesh',1,'100',100]\n",
    "\n",
    "print(list1)\n",
    "\n",
    "print(list1[:3])\n",
    "\n",
    "print(list1[2:])\n"
   ]
  },
  {
   "cell_type": "code",
   "execution_count": 5,
   "id": "9a62fb06-86e4-41ee-afdc-5a096a03e20f",
   "metadata": {},
   "outputs": [
    {
     "name": "stdout",
     "output_type": "stream",
     "text": [
      "array('i', [1, 2, 3, 4, 5])\n"
     ]
    }
   ],
   "source": [
    "from array import *\n",
    "a  =  array('i',[1,2,3,4,5])\n",
    "\n",
    "print(a)"
   ]
  },
  {
   "cell_type": "code",
   "execution_count": 6,
   "id": "9d92469b-e103-4ae9-b3b8-98b2bc7d7d1b",
   "metadata": {},
   "outputs": [
    {
     "name": "stdout",
     "output_type": "stream",
     "text": [
      "learining  python\n"
     ]
    }
   ],
   "source": [
    "print(str+' ','pyth')"
   ]
  },
  {
   "cell_type": "code",
   "execution_count": null,
   "id": "f0d15cb9-e3bb-4429-8cf0-989408c3fdcc",
   "metadata": {},
   "outputs": [],
   "source": []
  }
 ],
 "metadata": {
  "kernelspec": {
   "display_name": "Python 3 (ipykernel)",
   "language": "python",
   "name": "python3"
  },
  "language_info": {
   "codemirror_mode": {
    "name": "ipython",
    "version": 3
   },
   "file_extension": ".py",
   "mimetype": "text/x-python",
   "name": "python",
   "nbconvert_exporter": "python",
   "pygments_lexer": "ipython3",
   "version": "3.11.1"
  }
 },
 "nbformat": 4,
 "nbformat_minor": 5
}
