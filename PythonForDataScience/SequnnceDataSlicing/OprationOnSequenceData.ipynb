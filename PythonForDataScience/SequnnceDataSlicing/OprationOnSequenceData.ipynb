{
 "cells": [
  {
   "cell_type": "markdown",
   "id": "0e9db7ec-825f-46e2-b3a6-66646e0f5367",
   "metadata": {},
   "source": [
    "## 1.Slicing in pyhton\n"
   ]
  },
  {
   "cell_type": "code",
   "execution_count": 1,
   "id": "006d09af-813b-4274-bc90-32d6cfbef584",
   "metadata": {},
   "outputs": [
    {
     "data": {
      "text/plain": [
       "'er'"
      ]
     },
     "execution_count": 1,
     "metadata": {},
     "output_type": "execute_result"
    }
   ],
   "source": [
    "str  = \"learining\"\n",
    "\n",
    "str[slice(1,4,2)]\n"
   ]
  },
  {
   "cell_type": "code",
   "execution_count": 2,
   "id": "8b637baa-d2d5-4df6-999f-856451c927a4",
   "metadata": {},
   "outputs": [
    {
     "data": {
      "text/plain": [
       "'learining'"
      ]
     },
     "execution_count": 2,
     "metadata": {},
     "output_type": "execute_result"
    }
   ],
   "source": [
    "str[:]"
   ]
  },
  {
   "cell_type": "code",
   "execution_count": 4,
   "id": "7a3ec6d1-5927-4160-ae1f-517e1d4d77a5",
   "metadata": {},
   "outputs": [
    {
     "name": "stdout",
     "output_type": "stream",
     "text": [
      "['Sandesh', 1, '100', 100]\n",
      "['Sandesh', 1, '100']\n",
      "['100', 100]\n"
     ]
    }
   ],
   "source": [
    "list1 = ['Sandesh',1,'100',100]\n",
    "\n",
    "print(list1)\n",
    "\n",
    "print(list1[:3])\n",
    "\n",
    "print(list1[2:])\n"
   ]
  },
  {
   "cell_type": "code",
   "execution_count": 5,
   "id": "9a62fb06-86e4-41ee-afdc-5a096a03e20f",
   "metadata": {},
   "outputs": [
    {
     "name": "stdout",
     "output_type": "stream",
     "text": [
      "array('i', [1, 2, 3, 4, 5])\n"
     ]
    }
   ],
   "source": [
    "from array import *\n",
    "a  =  array('i',[1,2,3,4,5])\n",
    "\n",
    "print(a)"
   ]
  },
  {
   "cell_type": "code",
   "execution_count": 7,
   "id": "9d92469b-e103-4ae9-b3b8-98b2bc7d7d1b",
   "metadata": {},
   "outputs": [
    {
     "name": "stdout",
     "output_type": "stream",
     "text": [
      "learining  pyth\n"
     ]
    }
   ],
   "source": [
    "print(str+' ','pyth')"
   ]
  },
  {
   "cell_type": "markdown",
   "id": "803dcc5f-d369-4f1a-9bdc-b5e69cf43d0b",
   "metadata": {},
   "source": [
    "## 2.Concatetation"
   ]
  },
  {
   "cell_type": "code",
   "execution_count": 8,
   "id": "d085caf2-997e-4da8-b43a-0b07e4a62a02",
   "metadata": {},
   "outputs": [
    {
     "name": "stdout",
     "output_type": "stream",
     "text": [
      "array('i', [1, 2, 3, 4, 5])\n"
     ]
    }
   ],
   "source": [
    "print(a)"
   ]
  },
  {
   "cell_type": "code",
   "execution_count": 14,
   "id": "ee8cc060-f5a5-45ab-a8c9-db7979007eac",
   "metadata": {},
   "outputs": [
    {
     "name": "stdout",
     "output_type": "stream",
     "text": [
      "('python', 'programing', 3, 4, 5, 'first', 'second')\n"
     ]
    }
   ],
   "source": [
    "tp1 = ('python','programing',3,4,5)\n",
    "\n",
    "tp1 += ('first','second')\n",
    "\n",
    "print(tp1)"
   ]
  },
  {
   "cell_type": "markdown",
   "id": "9ca28fd7-369c-4d72-a610-03f42254ff61",
   "metadata": {},
   "source": [
    "## 3.Multiplaction"
   ]
  },
  {
   "cell_type": "code",
   "execution_count": 15,
   "id": "659b24a0-1cd8-4cbd-9285-db77c06b5791",
   "metadata": {},
   "outputs": [
    {
     "name": "stdout",
     "output_type": "stream",
     "text": [
      "learininglearininglearining\n"
     ]
    }
   ],
   "source": [
    "str*=3\n",
    "print(str)"
   ]
  },
  {
   "cell_type": "code",
   "execution_count": 16,
   "id": "8cd14125-8dee-40d5-a821-0bfe2724794d",
   "metadata": {},
   "outputs": [
    {
     "data": {
      "text/plain": [
       "['Sandesh', 1, '100', 100, 'Sandesh', 1, '100', 100]"
      ]
     },
     "execution_count": 16,
     "metadata": {},
     "output_type": "execute_result"
    }
   ],
   "source": [
    "list1*2"
   ]
  },
  {
   "cell_type": "code",
   "execution_count": null,
   "id": "ea60de3c-027a-4de4-9065-677a614cd59b",
   "metadata": {},
   "outputs": [],
   "source": []
  }
 ],
 "metadata": {
  "kernelspec": {
   "display_name": "Python 3 (ipykernel)",
   "language": "python",
   "name": "python3"
  },
  "language_info": {
   "codemirror_mode": {
    "name": "ipython",
    "version": 3
   },
   "file_extension": ".py",
   "mimetype": "text/x-python",
   "name": "python",
   "nbconvert_exporter": "python",
   "pygments_lexer": "ipython3",
   "version": "3.11.1"
  }
 },
 "nbformat": 4,
 "nbformat_minor": 5
}
