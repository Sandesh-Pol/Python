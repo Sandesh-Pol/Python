{
 "cells": [
  {
   "cell_type": "markdown",
   "id": "f711fd33-5284-452a-a5db-e7c0ae48c556",
   "metadata": {},
   "source": [
    "# General sequence data meathods"
   ]
  },
  {
   "cell_type": "markdown",
   "id": "f714eca7-697c-4656-8a01-8da525a5a940",
   "metadata": {},
   "source": [
    "## 1. String meathod\n"
   ]
  },
  {
   "cell_type": "code",
   "execution_count": 1,
   "id": "7e285a69-1b2e-42f1-9626-fb26ecc305cd",
   "metadata": {},
   "outputs": [
    {
     "name": "stdout",
     "output_type": "stream",
     "text": [
      "learing is fun !\n"
     ]
    }
   ],
   "source": [
    "str = 'learing is fun !'\n",
    "\n",
    "print(str);"
   ]
  },
  {
   "cell_type": "markdown",
   "id": "77e67bf7-4bb5-447d-ba2e-08e749adb06c",
   "metadata": {},
   "source": [
    "#### 1.Upper Case first letter"
   ]
  },
  {
   "cell_type": "code",
   "execution_count": 2,
   "id": "b8a19d0e-0892-4b6f-8866-cdcc9a82ec24",
   "metadata": {},
   "outputs": [
    {
     "data": {
      "text/plain": [
       "'Learing is fun !'"
      ]
     },
     "execution_count": 2,
     "metadata": {},
     "output_type": "execute_result"
    }
   ],
   "source": [
    "str.capitalize()"
   ]
  },
  {
   "cell_type": "markdown",
   "id": "ed3c1d3b-29cb-43cb-8020-660345836bd6",
   "metadata": {},
   "source": [
    "#### 2.Upper Case first letter of each word"
   ]
  },
  {
   "cell_type": "code",
   "execution_count": 3,
   "id": "be4cc8b5-5c99-443e-8adb-988da045700a",
   "metadata": {},
   "outputs": [
    {
     "data": {
      "text/plain": [
       "'Learing Is Fun !'"
      ]
     },
     "execution_count": 3,
     "metadata": {},
     "output_type": "execute_result"
    }
   ],
   "source": [
    "str.title()"
   ]
  },
  {
   "cell_type": "markdown",
   "id": "ee60d1ff-2efb-4294-a269-a39d7fe9b52f",
   "metadata": {},
   "source": [
    "#### 3.Upper swap case"
   ]
  },
  {
   "cell_type": "code",
   "execution_count": 4,
   "id": "0897780c-a0e1-4bbd-9c1a-9af3302e384e",
   "metadata": {},
   "outputs": [
    {
     "data": {
      "text/plain": [
       "'LEARING IS FUN !'"
      ]
     },
     "execution_count": 4,
     "metadata": {},
     "output_type": "execute_result"
    }
   ],
   "source": [
    "str.swapcase()"
   ]
  },
  {
   "cell_type": "markdown",
   "id": "3d198275-1b7c-4556-9fa7-8614f8410fef",
   "metadata": {},
   "source": [
    "#### 4.Find"
   ]
  },
  {
   "cell_type": "code",
   "execution_count": 5,
   "id": "779356f5-8789-496d-8837-f20f13004aa9",
   "metadata": {},
   "outputs": [
    {
     "data": {
      "text/plain": [
       "12"
      ]
     },
     "execution_count": 5,
     "metadata": {},
     "output_type": "execute_result"
    }
   ],
   "source": [
    "str.find('u')"
   ]
  },
  {
   "cell_type": "markdown",
   "id": "7b3f4ad1-01e7-4983-8890-9ec4ce44dce6",
   "metadata": {},
   "source": [
    "#### 5. Count letter from string"
   ]
  },
  {
   "cell_type": "code",
   "execution_count": 7,
   "id": "49cb86e0-1a97-482c-9f4c-92ff96d2de98",
   "metadata": {},
   "outputs": [
    {
     "data": {
      "text/plain": [
       "1"
      ]
     },
     "execution_count": 7,
     "metadata": {},
     "output_type": "execute_result"
    }
   ],
   "source": [
    "str.count('a')"
   ]
  },
  {
   "cell_type": "markdown",
   "id": "46d9f4fb-72a7-41ab-90c6-e4d9f81f4f38",
   "metadata": {},
   "source": [
    "#### 6.Replace"
   ]
  },
  {
   "cell_type": "code",
   "execution_count": 8,
   "id": "34744de2-1022-487f-b084-73621f6b5f3d",
   "metadata": {},
   "outputs": [
    {
     "data": {
      "text/plain": [
       "'learing is joy !'"
      ]
     },
     "execution_count": 8,
     "metadata": {},
     "output_type": "execute_result"
    }
   ],
   "source": [
    "str.replace('fun','joy')"
   ]
  },
  {
   "cell_type": "code",
   "execution_count": 9,
   "id": "450956a6-d57e-4228-8c53-0bb8ce4fb600",
   "metadata": {},
   "outputs": [
    {
     "data": {
      "text/plain": [
       "False"
      ]
     },
     "execution_count": 9,
     "metadata": {},
     "output_type": "execute_result"
    }
   ],
   "source": [
    "str.isalnum()"
   ]
  },
  {
   "cell_type": "markdown",
   "id": "65612b9f-73d4-434a-9a58-f81b2056dd2c",
   "metadata": {},
   "source": [
    "## Format in pyhton"
   ]
  },
  {
   "cell_type": "code",
   "execution_count": 14,
   "id": "e20c1826-75bc-496c-b201-34e16988d9dc",
   "metadata": {},
   "outputs": [],
   "source": [
    "name1 = 'Sandesh'\n",
    "name2 = 'Manthon'\n",
    "name3 = 'Sneha'"
   ]
  },
  {
   "cell_type": "code",
   "execution_count": 17,
   "id": "8ee1306c-9942-47b3-9fa9-226c67a6ecab",
   "metadata": {},
   "outputs": [
    {
     "name": "stdout",
     "output_type": "stream",
     "text": [
      "Sandesh . Manthon . Sneha.\n"
     ]
    }
   ],
   "source": [
    "name = '{} . {} . {}.'.format(name1,name2,name3)\n",
    "\n",
    "print(name)"
   ]
  },
  {
   "cell_type": "code",
   "execution_count": 18,
   "id": "f6349134-cf42-4106-a358-972caf8cd259",
   "metadata": {},
   "outputs": [
    {
     "name": "stdout",
     "output_type": "stream",
     "text": [
      "['__add__', '__class__', '__contains__', '__delattr__', '__dir__', '__doc__', '__eq__', '__format__', '__ge__', '__getattribute__', '__getitem__', '__getnewargs__', '__getstate__', '__gt__', '__hash__', '__init__', '__init_subclass__', '__iter__', '__le__', '__len__', '__lt__', '__mod__', '__mul__', '__ne__', '__new__', '__reduce__', '__reduce_ex__', '__repr__', '__rmod__', '__rmul__', '__setattr__', '__sizeof__', '__str__', '__subclasshook__', 'capitalize', 'casefold', 'center', 'count', 'encode', 'endswith', 'expandtabs', 'find', 'format', 'format_map', 'index', 'isalnum', 'isalpha', 'isascii', 'isdecimal', 'isdigit', 'isidentifier', 'islower', 'isnumeric', 'isprintable', 'isspace', 'istitle', 'isupper', 'join', 'ljust', 'lower', 'lstrip', 'maketrans', 'partition', 'removeprefix', 'removesuffix', 'replace', 'rfind', 'rindex', 'rjust', 'rpartition', 'rsplit', 'rstrip', 'split', 'splitlines', 'startswith', 'strip', 'swapcase', 'title', 'translate', 'upper', 'zfill']\n"
     ]
    }
   ],
   "source": [
    "print(dir(name))"
   ]
  },
  {
   "cell_type": "code",
   "execution_count": 21,
   "id": "3c2d0680-5c74-40bd-8df5-234328a4c4c8",
   "metadata": {},
   "outputs": [
    {
     "name": "stdout",
     "output_type": "stream",
     "text": [
      "Help on built-in function find:\n",
      "\n",
      "find(...) method of builtins.str instance\n",
      "    S.find(sub[, start[, end]]) -> int\n",
      "    \n",
      "    Return the lowest index in S where substring sub is found,\n",
      "    such that sub is contained within S[start:end].  Optional\n",
      "    arguments start and end are interpreted as in slice notation.\n",
      "    \n",
      "    Return -1 on failure.\n",
      "\n",
      "None\n"
     ]
    }
   ],
   "source": [
    "print(help(str.find))"
   ]
  },
  {
   "cell_type": "markdown",
   "id": "5eeab1fe-f3e6-4466-8539-848bb7791ea0",
   "metadata": {},
   "source": []
  },
  {
   "cell_type": "code",
   "execution_count": null,
   "id": "95f66bad-e2a3-4115-9fd3-a5cc39ece1ac",
   "metadata": {},
   "outputs": [],
   "source": []
  }
 ],
 "metadata": {
  "kernelspec": {
   "display_name": "Python 3 (ipykernel)",
   "language": "python",
   "name": "python3"
  },
  "language_info": {
   "codemirror_mode": {
    "name": "ipython",
    "version": 3
   },
   "file_extension": ".py",
   "mimetype": "text/x-python",
   "name": "python",
   "nbconvert_exporter": "python",
   "pygments_lexer": "ipython3",
   "version": "3.11.1"
  }
 },
 "nbformat": 4,
 "nbformat_minor": 5
}
