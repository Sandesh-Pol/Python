{
 "cells": [
  {
   "cell_type": "markdown",
   "metadata": {},
   "source": [
    "Generating Random Numbers:\n",
    "\n",
    "random(): Returns a random floating-point number in the range [0.0, 1.0) \n",
    "\n",
    "randrange(start, stop, step): Returns a randomly selected element from the specified range. \n",
    "\n",
    "randint(a, b): Returns a random integer N such that a <= N <= b. \\n"
   ]
  },
  {
   "cell_type": "code",
   "execution_count": 55,
   "metadata": {},
   "outputs": [
    {
     "name": "stdout",
     "output_type": "stream",
     "text": [
      "Random number: 0.42430676926701116\n",
      "Random number: 7\n"
     ]
    }
   ],
   "source": [
    "import random\n",
    "\n",
    "random_number = random.random()\n",
    "print(\"Random number:\", random_number)\n",
    "\n",
    "randomInt = random.randint(1,10)\n",
    "print(\"Random number:\", randomInt)"
   ]
  },
  {
   "cell_type": "code",
   "execution_count": 47,
   "metadata": {},
   "outputs": [
    {
     "name": "stdout",
     "output_type": "stream",
     "text": [
      "Random element: apple\n"
     ]
    }
   ],
   "source": [
    "my_list = ['one run', 'banana', 'cherry', 'date']\n",
    "random_element = random.choice(my_list)\n",
    "print(\"Random element:\", random_element)"
   ]
  },
  {
   "cell_type": "code",
   "execution_count": null,
   "metadata": {},
   "outputs": [],
   "source": []
  }
 ],
 "metadata": {
  "kernelspec": {
   "display_name": "Python 3",
   "language": "python",
   "name": "python3"
  },
  "language_info": {
   "codemirror_mode": {
    "name": "ipython",
    "version": 3
   },
   "file_extension": ".py",
   "mimetype": "text/x-python",
   "name": "python",
   "nbconvert_exporter": "python",
   "pygments_lexer": "ipython3",
   "version": "3.11.1"
  }
 },
 "nbformat": 4,
 "nbformat_minor": 2
}
