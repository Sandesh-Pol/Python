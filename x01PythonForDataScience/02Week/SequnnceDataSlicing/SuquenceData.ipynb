{
 "cells": [
  {
   "cell_type": "markdown",
   "id": "d4ee4bdd-257f-491c-9198-f35a3900b72c",
   "metadata": {},
   "source": [
    "## Squnence data types all "
   ]
  },
  {
   "cell_type": "code",
   "execution_count": 8,
   "id": "14a8539f-853a-48ce-9d0e-e59062edc97c",
   "metadata": {},
   "outputs": [],
   "source": [
    "strSample = 'learing is fun !'"
   ]
  },
  {
   "cell_type": "code",
   "execution_count": 50,
   "id": "e4f1ef28-4f62-4871-8292-e35108943d58",
   "metadata": {},
   "outputs": [],
   "source": [
    "listSample = [1,2,3,4,5,'a','sum']"
   ]
  },
  {
   "cell_type": "code",
   "execution_count": 10,
   "id": "23104fd0-eb43-48aa-a017-311a6297aca2",
   "metadata": {},
   "outputs": [],
   "source": [
    "from array import *"
   ]
  },
  {
   "cell_type": "code",
   "execution_count": 11,
   "id": "0dc97e17-22b5-437c-8ae5-5f4cac39f3ae",
   "metadata": {},
   "outputs": [],
   "source": [
    "arraySample =  array('i',[1,2,3,4])"
   ]
  },
  {
   "cell_type": "code",
   "execution_count": 12,
   "id": "2eb60c35-f688-41d2-9942-b46ad8a090ef",
   "metadata": {},
   "outputs": [],
   "source": [
    "tupSample = (1,2,3,4,'py','sy')"
   ]
  },
  {
   "cell_type": "code",
   "execution_count": 27,
   "id": "f75e3cb7-e555-4a22-a873-92622fb5081a",
   "metadata": {},
   "outputs": [],
   "source": [
    "distSample = {1:'first',2:'second',2:'third',3:'forth',4:'fotrh'}"
   ]
  },
  {
   "cell_type": "code",
   "execution_count": 63,
   "id": "87c271f5-d820-4234-8c53-29a75acdede2",
   "metadata": {},
   "outputs": [],
   "source": [
    "setSample = {'example',24,24.21,'data',24}\n",
    "\n",
    "keys = {1,'second',2,'three'}"
   ]
  },
  {
   "cell_type": "code",
   "execution_count": 15,
   "id": "53a96f8f-b248-4d3a-989e-780fe952896c",
   "metadata": {},
   "outputs": [],
   "source": [
    "rangeSample = range(1,12,3)\n"
   ]
  },
  {
   "cell_type": "markdown",
   "id": "e98522e4-cfdb-4a36-8cc8-6c28d06bb531",
   "metadata": {},
   "source": [
    "### The len(object) returns number of elements in the object\n",
    "\n",
    "##### It can be applied on string,list,tuple,set,rang,dictionary"
   ]
  },
  {
   "cell_type": "code",
   "execution_count": 16,
   "id": "f5fe88ab-fb79-4bdc-8308-e18abfa3a91c",
   "metadata": {},
   "outputs": [
    {
     "name": "stdout",
     "output_type": "stream",
     "text": [
      "number of object : \n",
      "String = 16, list = 7, array = 4, tuple = 6, dictionary = 4, set = 4, range = 4\n"
     ]
    }
   ],
   "source": [
    "print('number of object : ')\n",
    "print(\"String = {}, list = {}, array = {}, tuple = {}, dictionary = {}, set = {}, range = {}\".format(len(strSample), len(listSample), len(arraySample), len(tupSample), len(distSample), len(setSample), len(rangeSample)))"
   ]
  },
  {
   "cell_type": "markdown",
   "id": "d3cffdd4-c93a-4802-89f0-4e1a96b5a34b",
   "metadata": {},
   "source": [
    "#### 2. Reverse meathos"
   ]
  },
  {
   "cell_type": "code",
   "execution_count": 17,
   "id": "6be11939-b864-4653-947d-cb9eed603d27",
   "metadata": {},
   "outputs": [
    {
     "name": "stdout",
     "output_type": "stream",
     "text": [
      "['sum', 'a', 5, 4, 3, 2, 1]\n"
     ]
    }
   ],
   "source": [
    "listSample.reverse()\n",
    "\n",
    "print(listSample)"
   ]
  },
  {
   "cell_type": "markdown",
   "id": "d151e74a-1209-4a59-8a68-b131e0043f56",
   "metadata": {},
   "source": [
    "#### 3. Clear"
   ]
  },
  {
   "cell_type": "code",
   "execution_count": 18,
   "id": "f67ee90f-c486-436e-a5a1-7a533cda47c0",
   "metadata": {},
   "outputs": [],
   "source": [
    "setSample.clear()"
   ]
  },
  {
   "cell_type": "code",
   "execution_count": 19,
   "id": "da3602af-c327-4d63-bfed-35b2e6ea2850",
   "metadata": {},
   "outputs": [
    {
     "name": "stdout",
     "output_type": "stream",
     "text": [
      "set()\n"
     ]
    }
   ],
   "source": [
    "print(setSample)"
   ]
  },
  {
   "cell_type": "markdown",
   "id": "e536fa5a-8109-4af0-8002-4df0111db6bf",
   "metadata": {},
   "source": [
    "#### 4. append() add elemet in sequences\n",
    "\n",
    "###### we can not append distonary"
   ]
  },
  {
   "cell_type": "code",
   "execution_count": 20,
   "id": "f0852356-0cee-4827-88c2-ffaa3bd46c16",
   "metadata": {},
   "outputs": [],
   "source": [
    "listSample.append([12,23,34])"
   ]
  },
  {
   "cell_type": "code",
   "execution_count": 21,
   "id": "d8fa67b4-aa5a-400f-9c91-94e7afd65ec9",
   "metadata": {},
   "outputs": [
    {
     "name": "stdout",
     "output_type": "stream",
     "text": [
      "['sum', 'a', 5, 4, 3, 2, 1, [12, 23, 34]]\n"
     ]
    }
   ],
   "source": [
    "print(listSample)"
   ]
  },
  {
   "cell_type": "code",
   "execution_count": 23,
   "id": "181d3594-05ee-4dd7-aa2b-42ebf9bbd0bf",
   "metadata": {},
   "outputs": [
    {
     "name": "stdout",
     "output_type": "stream",
     "text": [
      "{20}\n"
     ]
    }
   ],
   "source": [
    "setSample.add(20)\n",
    "\n",
    "print(setSample)"
   ]
  },
  {
   "cell_type": "markdown",
   "id": "17045ad3-6c18-44cc-8477-d5ee9cdca676",
   "metadata": {},
   "source": [
    "#### 5.update() function is set adds elements from set(pass as an argument to the set)"
   ]
  },
  {
   "cell_type": "markdown",
   "id": "469d92ce-00ed-4bd0-9aca-20c9916735e4",
   "metadata": {},
   "source": [
    "- this meathod can take single argument\n",
    "- the single argument can be set tuples or distionary"
   ]
  },
  {
   "cell_type": "code",
   "execution_count": 26,
   "id": "5613a03b-abab-44d9-a9c9-c80946c8d3fb",
   "metadata": {},
   "outputs": [
    {
     "name": "stdout",
     "output_type": "stream",
     "text": [
      "{'data', 5, 'example', 10, 24, 24.21}\n"
     ]
    }
   ],
   "source": [
    "setSample.update([5,10])\n",
    "\n",
    "print(setSample)"
   ]
  },
  {
   "cell_type": "markdown",
   "id": "2807d15c-b04e-4653-9234-52a46e39b873",
   "metadata": {},
   "source": [
    "### Dicitionary Meathods"
   ]
  },
  {
   "cell_type": "code",
   "execution_count": 28,
   "id": "24df4a63-32d8-425c-b074-f7d53a01dfef",
   "metadata": {},
   "outputs": [
    {
     "name": "stdout",
     "output_type": "stream",
     "text": [
      "{1: 'first', 2: 'third', 3: 'forth', 4: 'fotrh'}\n"
     ]
    }
   ],
   "source": [
    "print(distSample)"
   ]
  },
  {
   "cell_type": "code",
   "execution_count": 29,
   "id": "7b3fc64e-d220-4130-a7dc-b331b79c70c5",
   "metadata": {},
   "outputs": [
    {
     "name": "stdout",
     "output_type": "stream",
     "text": [
      "{1: 'first', 2: 'third', 3: 'forth', 4: 'fotrh', 'five': 5}\n"
     ]
    }
   ],
   "source": [
    "distSample['five'] = 5\n",
    "print(distSample)"
   ]
  },
  {
   "cell_type": "code",
   "execution_count": 32,
   "id": "b1e91fe0-0171-44c5-9136-0d5bb7dc7508",
   "metadata": {},
   "outputs": [
    {
     "name": "stdout",
     "output_type": "stream",
     "text": [
      "{1: 'first', 2: 'third', 3: 'forth', 4: 'fotrh', 'five': 5, 'six': 6}\n"
     ]
    }
   ],
   "source": [
    "distSample.update(six = 6)\n",
    "print(distSample)"
   ]
  },
  {
   "cell_type": "code",
   "execution_count": 33,
   "id": "5d986815-02ce-46c9-8bea-5e8b0b78f353",
   "metadata": {},
   "outputs": [
    {
     "data": {
      "text/plain": [
       "dict_keys([1, 2, 3, 4, 'five', 'six'])"
      ]
     },
     "execution_count": 33,
     "metadata": {},
     "output_type": "execute_result"
    }
   ],
   "source": [
    "distSample.keys()"
   ]
  },
  {
   "cell_type": "code",
   "execution_count": 35,
   "id": "c00b2c0a-0b6a-4e1f-b353-b7a9992e0029",
   "metadata": {},
   "outputs": [
    {
     "data": {
      "text/plain": [
       "dict_items([(1, 'first'), (2, 'third'), (3, 'forth'), (4, 'fotrh'), ('five', 5), ('six', 6)])"
      ]
     },
     "execution_count": 35,
     "metadata": {},
     "output_type": "execute_result"
    }
   ],
   "source": [
    "distSample.items()"
   ]
  },
  {
   "cell_type": "markdown",
   "id": "04293723-9c39-4449-8095-1eb43a72bfd5",
   "metadata": {},
   "source": [
    "#### insert() meathod \n",
    "- used in array and list\n"
   ]
  },
  {
   "cell_type": "code",
   "execution_count": 36,
   "id": "570eb589-8eb9-4043-a337-484b9c937ee2",
   "metadata": {},
   "outputs": [
    {
     "name": "stdout",
     "output_type": "stream",
     "text": [
      "array('i', [1, 2, 3, 4])\n"
     ]
    }
   ],
   "source": [
    "print(arraySample)"
   ]
  },
  {
   "cell_type": "code",
   "execution_count": 37,
   "id": "e5ac3a29-2bd8-469e-915d-c2b702089e20",
   "metadata": {},
   "outputs": [],
   "source": [
    "arraySample.insert(4,5)"
   ]
  },
  {
   "cell_type": "code",
   "execution_count": 38,
   "id": "f70e260d-7406-428d-a2ca-f997ffb33ab5",
   "metadata": {},
   "outputs": [
    {
     "name": "stdout",
     "output_type": "stream",
     "text": [
      "array('i', [1, 2, 3, 4, 5])\n"
     ]
    }
   ],
   "source": [
    "print(arraySample)"
   ]
  },
  {
   "cell_type": "markdown",
   "id": "04291241-e7a4-4ace-bcfa-37d323fcd853",
   "metadata": {},
   "source": [
    "#### pop() meathod \n",
    "- default value is -1 wheach reaturns last element\n",
    "- supports to array , list , set . dictionary\n"
   ]
  },
  {
   "cell_type": "code",
   "execution_count": 39,
   "id": "75c0f67a-cbf8-4231-9cd9-b4df0e87421a",
   "metadata": {},
   "outputs": [
    {
     "data": {
      "text/plain": [
       "5"
      ]
     },
     "execution_count": 39,
     "metadata": {},
     "output_type": "execute_result"
    }
   ],
   "source": [
    "arraySample.pop(4)\n"
   ]
  },
  {
   "cell_type": "code",
   "execution_count": 41,
   "id": "b592bd7f-741c-4865-a1d2-a12e4b3cb526",
   "metadata": {},
   "outputs": [
    {
     "data": {
      "text/plain": [
       "'third'"
      ]
     },
     "execution_count": 41,
     "metadata": {},
     "output_type": "execute_result"
    }
   ],
   "source": [
    "distSample.pop(2)"
   ]
  },
  {
   "cell_type": "code",
   "execution_count": 42,
   "id": "6ccaad15-aa91-44f5-808e-4c771b1fd329",
   "metadata": {},
   "outputs": [
    {
     "data": {
      "text/plain": [
       "[12, 23, 34]"
      ]
     },
     "execution_count": 42,
     "metadata": {},
     "output_type": "execute_result"
    }
   ],
   "source": [
    "listSample.pop()"
   ]
  },
  {
   "cell_type": "code",
   "execution_count": 46,
   "id": "49e625a1-686b-45a7-aba7-29f4d6e76d7a",
   "metadata": {},
   "outputs": [
    {
     "name": "stdout",
     "output_type": "stream",
     "text": [
      "{1: 'first', 4: 'fotrh', 'five': 5, 'six': 6}\n"
     ]
    }
   ],
   "source": [
    "distSample.pop(3)\n",
    "print(distSample)"
   ]
  },
  {
   "cell_type": "markdown",
   "id": "c79eb284-447d-4e3e-8079-dc5378a25f60",
   "metadata": {},
   "source": [
    "#### Set is unordered sequence and hence pop is not  uassaly used\n",
    "\n",
    "- The remove meathod removes first appernece of element\n",
    "- it supports list ,array ,set  , dictonary "
   ]
  },
  {
   "cell_type": "code",
   "execution_count": 49,
   "id": "8525e7de-64f3-42dc-a1fd-d627a29922f2",
   "metadata": {},
   "outputs": [
    {
     "name": "stdout",
     "output_type": "stream",
     "text": [
      "array('i', [1, 3, 4])\n",
      "array('i', [3, 4])\n"
     ]
    }
   ],
   "source": [
    "print(arraySample)\n",
    "arraySample.remove(1)\n",
    "print(arraySample)"
   ]
  },
  {
   "cell_type": "code",
   "execution_count": 57,
   "id": "61fa4335-1936-440f-ad6b-9a8e5120aa47",
   "metadata": {},
   "outputs": [
    {
     "name": "stdout",
     "output_type": "stream",
     "text": [
      "[1, 2, 3, 4, 5, 'a', 'sum']\n",
      "[1, 2, 3, 4, 5, 'a']\n"
     ]
    }
   ],
   "source": [
    "print(listSample)\n",
    "listSample.remove('sum')\n",
    "print(listSample)"
   ]
  },
  {
   "cell_type": "code",
   "execution_count": 61,
   "id": "fcfc0e95-f5c2-43a2-bbb1-11fff8b97d50",
   "metadata": {},
   "outputs": [
    {
     "name": "stdout",
     "output_type": "stream",
     "text": [
      "{24, 24.21, 'data', 'example'}\n",
      "{24.21, 'data', 'example'}\n"
     ]
    }
   ],
   "source": [
    "print(setSample)\n",
    "setSample.remove(24)\n",
    "print(setSample)"
   ]
  },
  {
   "cell_type": "code",
   "execution_count": 62,
   "id": "4150d2bb-649d-4afd-ac44-8d6a9ca1e20f",
   "metadata": {},
   "outputs": [],
   "source": [
    "del setSample"
   ]
  },
  {
   "cell_type": "code",
   "execution_count": 64,
   "id": "f9443c75-0505-4cf8-b8d5-0d21b55e8cf1",
   "metadata": {},
   "outputs": [
    {
     "name": "stdout",
     "output_type": "stream",
     "text": [
      "[1, 2, 3, 4, 5, 'a']\n",
      "[1, 4, 5, 'a']\n"
     ]
    }
   ],
   "source": [
    "print(listSample)\n",
    "del listSample[1:3]\n",
    "print(listSample)"
   ]
  },
  {
   "cell_type": "markdown",
   "id": "42e7ce14-b2b4-4069-bb6a-e7f24b88cbd9",
   "metadata": {},
   "source": [
    "### The extend() meathod adds the specified list element "
   ]
  },
  {
   "cell_type": "code",
   "execution_count": 65,
   "id": "279e0813-879d-42cc-8997-b04167ab9a09",
   "metadata": {},
   "outputs": [
    {
     "name": "stdout",
     "output_type": "stream",
     "text": [
      "array('i', [3, 4, 4, 5, 6, 7])\n"
     ]
    }
   ],
   "source": [
    "arraySample.extend((4,5,6,7))\n",
    "print(arraySample)"
   ]
  },
  {
   "cell_type": "code",
   "execution_count": 67,
   "id": "62da9ec3-d38b-4fd1-8a97-a0c5a8f18b02",
   "metadata": {},
   "outputs": [
    {
     "name": "stdout",
     "output_type": "stream",
     "text": [
      "array('i', [3, 4, 4, 5, 6, 7, 4, 5, 6, 7])\n"
     ]
    }
   ],
   "source": [
    "arraySample.fromlist([4,5,6,7])\n",
    "print(arraySample)"
   ]
  },
  {
   "cell_type": "code",
   "execution_count": 69,
   "id": "a84ca70c-b212-4c17-affa-bd4b110f171a",
   "metadata": {},
   "outputs": [
    {
     "data": {
      "text/plain": [
       "[3, 4, 4, 5, 6, 7, 4, 5, 6, 7]"
      ]
     },
     "execution_count": 69,
     "metadata": {},
     "output_type": "execute_result"
    }
   ],
   "source": [
    "arraySample.tolist()"
   ]
  },
  {
   "cell_type": "markdown",
   "id": "8fd367b0-0a9b-4db0-bb88-db8583ac13a4",
   "metadata": {},
   "source": [
    "### Opration on set\n",
    "- every element is unique\n",
    "- set can be used to perform mathamatical set pration like ubion "
   ]
  },
  {
   "cell_type": "code",
   "execution_count": 71,
   "id": "87678e23-b2df-49ba-8789-8652e6b6857c",
   "metadata": {},
   "outputs": [
    {
     "name": "stdout",
     "output_type": "stream",
     "text": [
      "{'fjfhj', 'example', 24, 57, 76}\n"
     ]
    }
   ],
   "source": [
    "A = {'example',24,24,76,57,'fjfhj'}\n",
    "\n",
    "print(A)"
   ]
  },
  {
   "cell_type": "code",
   "execution_count": 72,
   "id": "e68b2259-b69c-4c3a-be5d-4f75f48b413b",
   "metadata": {},
   "outputs": [],
   "source": [
    "B =  {24,24,76,57}"
   ]
  },
  {
   "cell_type": "code",
   "execution_count": 73,
   "id": "d141f552-ab40-4f5f-908d-75df98cd5cd5",
   "metadata": {},
   "outputs": [
    {
     "name": "stdout",
     "output_type": "stream",
     "text": [
      "{'fjfhj', 'example', 24, 57, 76}\n"
     ]
    },
    {
     "data": {
      "text/plain": [
       "{24, 57, 76, 'example', 'fjfhj'}"
      ]
     },
     "execution_count": 73,
     "metadata": {},
     "output_type": "execute_result"
    }
   ],
   "source": [
    "print(A | B)\n",
    "A.union(B)"
   ]
  },
  {
   "cell_type": "code",
   "execution_count": 75,
   "id": "9980e945-3bb8-4482-8eab-f465b02ad57a",
   "metadata": {},
   "outputs": [
    {
     "name": "stdout",
     "output_type": "stream",
     "text": [
      "{24, 57, 76}\n"
     ]
    },
    {
     "data": {
      "text/plain": [
       "{24, 57, 76}"
      ]
     },
     "execution_count": 75,
     "metadata": {},
     "output_type": "execute_result"
    }
   ],
   "source": [
    "print(A & B)\n",
    "A.intersection(B)"
   ]
  },
  {
   "cell_type": "code",
   "execution_count": null,
   "id": "82469102-06f4-4104-8454-c1f57a1279dd",
   "metadata": {},
   "outputs": [],
   "source": []
  }
 ],
 "metadata": {
  "kernelspec": {
   "display_name": "Python 3 (ipykernel)",
   "language": "python",
   "name": "python3"
  },
  "language_info": {
   "codemirror_mode": {
    "name": "ipython",
    "version": 3
   },
   "file_extension": ".py",
   "mimetype": "text/x-python",
   "name": "python",
   "nbconvert_exporter": "python",
   "pygments_lexer": "ipython3",
   "version": "3.11.1"
  }
 },
 "nbformat": 4,
 "nbformat_minor": 5
}
