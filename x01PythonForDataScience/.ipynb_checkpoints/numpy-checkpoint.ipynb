{
 "cells": [
  {
   "cell_type": "code",
   "execution_count": 1,
   "id": "2c44bd04-37c1-4775-9d79-ea7aee76dc0a",
   "metadata": {},
   "outputs": [
    {
     "name": "stdout",
     "output_type": "stream",
     "text": [
      "[1, 2, 3, 4, 5, 6]\n"
     ]
    }
   ],
   "source": [
    "l = [1,2,3,4,5,6]\n",
    "print(l)"
   ]
  },
  {
   "cell_type": "code",
   "execution_count": 2,
   "id": "6b4cd5bf-c147-4614-a1e7-0f97cf5fc055",
   "metadata": {},
   "outputs": [],
   "source": [
    "import numpy as np"
   ]
  },
  {
   "cell_type": "code",
   "execution_count": 3,
   "id": "cc651c70-fe9b-40b4-8655-530dacb2759d",
   "metadata": {},
   "outputs": [
    {
     "name": "stdout",
     "output_type": "stream",
     "text": [
      "[1 2 3 4 5 6]\n"
     ]
    }
   ],
   "source": [
    "arr = np.array(l,dtype = int)\n",
    "print(arr)"
   ]
  },
  {
   "cell_type": "code",
   "execution_count": 4,
   "id": "c79e8dae-4e62-475a-be77-74b27a47eab0",
   "metadata": {},
   "outputs": [
    {
     "name": "stdout",
     "output_type": "stream",
     "text": [
      "<class 'numpy.ndarray'>\n",
      "6\n",
      "1\n",
      "(6,)\n"
     ]
    }
   ],
   "source": [
    "print(type(arr))\n",
    "print(len(arr))\n",
    "print(arr.ndim)\n",
    "print(arr.shape)"
   ]
  },
  {
   "cell_type": "code",
   "execution_count": 11,
   "id": "5f5e25c8-734a-4ad3-b669-594e55ddf503",
   "metadata": {},
   "outputs": [
    {
     "name": "stdout",
     "output_type": "stream",
     "text": [
      "[[1 2]\n",
      " [3 4]\n",
      " [5 6]]\n"
     ]
    },
    {
     "data": {
      "text/plain": [
       "2"
      ]
     },
     "execution_count": 11,
     "metadata": {},
     "output_type": "execute_result"
    }
   ],
   "source": [
    "array2 = arr.reshape(3,2)\n",
    "print(array2)\n",
    "array2.ndim"
   ]
  },
  {
   "cell_type": "code",
   "execution_count": 10,
   "id": "44e77874-ae8c-4340-9ae3-6457963755d0",
   "metadata": {},
   "outputs": [
    {
     "name": "stdout",
     "output_type": "stream",
     "text": [
      "[[1 2]\n",
      " [3 4]\n",
      " [5 6]]\n"
     ]
    },
    {
     "data": {
      "text/plain": [
       "(3, 2)"
      ]
     },
     "execution_count": 10,
     "metadata": {},
     "output_type": "execute_result"
    }
   ],
   "source": [
    "array3 = arr.reshape(3,-1)\n",
    "print(array3)\n",
    "array3.shape"
   ]
  },
  {
   "cell_type": "code",
   "execution_count": 15,
   "id": "c8a74c29-beed-4c84-a196-b52b8cf3ec86",
   "metadata": {},
   "outputs": [
    {
     "name": "stdout",
     "output_type": "stream",
     "text": [
      "[[1 2 3 4 5]\n",
      " [6 7 8 9 0]\n",
      " [3 4 5 6 7]]\n",
      "(3, 5)\n"
     ]
    }
   ],
   "source": [
    "l2 = [1,2,3,4,5]\n",
    "l3 = [6,7,8,9,0]\n",
    "l4 = [3,4,5,6,7]\n",
    "\n",
    "mulArray = np.array([l2,l3,l4])\n",
    "\n",
    "print(mulArray)\n",
    "\n",
    "print(mulArray.shape)"
   ]
  },
  {
   "cell_type": "code",
   "execution_count": 16,
   "id": "9ae97ccc-1ed8-4190-a085-0cc04bf758f3",
   "metadata": {},
   "outputs": [
    {
     "data": {
      "text/plain": [
       "array([[1, 2, 3, 4, 5, 6, 7, 8, 9, 0, 3, 4, 5, 6, 7]])"
      ]
     },
     "execution_count": 16,
     "metadata": {},
     "output_type": "execute_result"
    }
   ],
   "source": [
    "mulArray.reshape(1,15)"
   ]
  },
  {
   "cell_type": "code",
   "execution_count": 17,
   "id": "f9c0916e-6c94-4c3b-ba7e-40fc1b91fafb",
   "metadata": {},
   "outputs": [
    {
     "name": "stdout",
     "output_type": "stream",
     "text": [
      "range(0, 24)\n"
     ]
    }
   ],
   "source": [
    "r = range(24)\n",
    "print(r)"
   ]
  },
  {
   "cell_type": "code",
   "execution_count": 19,
   "id": "2117c054-ef5c-4bf1-8aaa-e414b44b9160",
   "metadata": {},
   "outputs": [
    {
     "name": "stdout",
     "output_type": "stream",
     "text": [
      "[ 0  1  2  3  4  5  6  7  8  9 10 11 12 13 14 15 16 17 18 19 20 21 22 23]\n",
      "1\n"
     ]
    }
   ],
   "source": [
    "# Range to array conversion\n",
    "\n",
    "a = np.arange(24)\n",
    "\n",
    "print(a)\n",
    "\n",
    "print(a.ndim)\n"
   ]
  },
  {
   "cell_type": "code",
   "execution_count": 20,
   "id": "88d069a8-04c0-44a1-b42e-6a7772f442f2",
   "metadata": {},
   "outputs": [
    {
     "data": {
      "text/plain": [
       "array([[[ 0],\n",
       "        [ 1],\n",
       "        [ 2],\n",
       "        [ 3]],\n",
       "\n",
       "       [[ 4],\n",
       "        [ 5],\n",
       "        [ 6],\n",
       "        [ 7]],\n",
       "\n",
       "       [[ 8],\n",
       "        [ 9],\n",
       "        [10],\n",
       "        [11]],\n",
       "\n",
       "       [[12],\n",
       "        [13],\n",
       "        [14],\n",
       "        [15]],\n",
       "\n",
       "       [[16],\n",
       "        [17],\n",
       "        [18],\n",
       "        [19]],\n",
       "\n",
       "       [[20],\n",
       "        [21],\n",
       "        [22],\n",
       "        [23]]])"
      ]
     },
     "execution_count": 20,
     "metadata": {},
     "output_type": "execute_result"
    }
   ],
   "source": [
    "a.reshape(6,4,1)"
   ]
  },
  {
   "cell_type": "markdown",
   "id": "509e25b6-be6f-4d2e-96da-85e6d7714597",
   "metadata": {},
   "source": [
    "### Numpy arthematic opration\n",
    "\n",
    "#### Syntax : np.add(a1,a2)"
   ]
  },
  {
   "cell_type": "code",
   "execution_count": 21,
   "id": "c66a1cea-a9aa-4b26-a631-55ee3b9d23af",
   "metadata": {},
   "outputs": [],
   "source": [
    "x = np.array([[1,2],[2,3]],dtype = np.float64)\n",
    "y = np.array([[5,6],[7,8]],dtype = np.float64)"
   ]
  },
  {
   "cell_type": "code",
   "execution_count": 24,
   "id": "197b9d53-92f0-4749-afd6-0d1b6d76b64a",
   "metadata": {},
   "outputs": [
    {
     "name": "stdout",
     "output_type": "stream",
     "text": [
      "[[ 6.  8.]\n",
      " [ 9. 11.]]\n",
      "[[ 6.  8.]\n",
      " [ 9. 11.]]\n",
      "[[-4. -4.]\n",
      " [-5. -5.]]\n",
      "[[ 6.  8.]\n",
      " [ 9. 11.]]\n",
      "[[ 5. 12.]\n",
      " [14. 24.]]\n",
      "[[ 6.  8.]\n",
      " [ 9. 11.]]\n",
      "[[0.2        0.33333333]\n",
      " [0.28571429 0.375     ]]\n",
      "[[ 6.  8.]\n",
      " [ 9. 11.]]\n",
      "[[19. 22.]\n",
      " [31. 36.]]\n"
     ]
    }
   ],
   "source": [
    "print(x+y)\n",
    "print(np.add(x,y))\n",
    "\n",
    "print(x-y)\n",
    "print(np.add(x,y))\n",
    "\n",
    "\n",
    "print(x*y)\n",
    "print(np.add(x,y))\n",
    "\n",
    "\n",
    "print(x/y)\n",
    "print(np.add(x,y))\n",
    "\n",
    "print(x.dot(y))"
   ]
  },
  {
   "cell_type": "code",
   "execution_count": 26,
   "id": "304a359f-b32c-4b01-ab17-e969e95a3d5b",
   "metadata": {},
   "outputs": [
    {
     "data": {
      "text/plain": [
       "34.0"
      ]
     },
     "execution_count": 26,
     "metadata": {},
     "output_type": "execute_result"
    }
   ],
   "source": [
    "np.add(np.sum(x),np.sum(y))"
   ]
  },
  {
   "cell_type": "code",
   "execution_count": 28,
   "id": "54c7c59e-130b-48a4-b0be-5365af19284b",
   "metadata": {},
   "outputs": [
    {
     "data": {
      "text/plain": [
       "array([3., 5.])"
      ]
     },
     "execution_count": 28,
     "metadata": {},
     "output_type": "execute_result"
    }
   ],
   "source": [
    "np.sum(x, axis = 0)\n",
    "\n",
    "np.sum(x, axis = 1)"
   ]
  },
  {
   "cell_type": "code",
   "execution_count": null,
   "id": "929ce5da-99c5-4935-bcc6-c020637071b2",
   "metadata": {},
   "outputs": [],
   "source": []
  }
 ],
 "metadata": {
  "kernelspec": {
   "display_name": "Python 3 (ipykernel)",
   "language": "python",
   "name": "python3"
  },
  "language_info": {
   "codemirror_mode": {
    "name": "ipython",
    "version": 3
   },
   "file_extension": ".py",
   "mimetype": "text/x-python",
   "name": "python",
   "nbconvert_exporter": "python",
   "pygments_lexer": "ipython3",
   "version": "3.11.4"
  }
 },
 "nbformat": 4,
 "nbformat_minor": 5
}
